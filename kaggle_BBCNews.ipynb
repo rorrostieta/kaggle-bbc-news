{
 "cells": [
  {
   "cell_type": "markdown",
   "metadata": {},
   "source": [
    "# Kaggle Mini-Project BBC News\n",
    "\n",
    "For this mini project I'll be assesing the NMF (Non-Negative Matrix) module to make predictions on the category of certain articles from the BBC News using the module to set up the features according to the text entries of each article.\n",
    "\n",
    "You can find more information about the competition and sets used here [Kaggle Competition: BBC News Classification](https://www.kaggle.com/c/learn-ai-bbc/overview) and review this project on my GitHub [here](https://github.com/rorrostieta/BBC_News) you can reach out there or ping me for any clarification regarding the project.\n",
    "\n",
    "## Objective\n",
    "*\"Classify the news articles depending on their content\"* This alongside testing various models to see how each one of them perform and compare **NMF** with other supervised models.\n",
    "\n",
    "## Libraries and Resources\n",
    "For this project we're given by the competition a test sets to be evaluated I'll be exploring them to give you more context about the problem and my approach."
   ]
  },
  {
   "cell_type": "code",
   "execution_count": 21,
   "metadata": {},
   "outputs": [],
   "source": [
    "import pandas as pd\n",
    "import numpy as np\n",
    "import itertools\n",
    "from sklearn.feature_extraction.text import TfidfVectorizer\n",
    "from sklearn.decomposition import NMF\n",
    "from sklearn.metrics import accuracy_score\n",
    "from sklearn.ensemble import RandomForestClassifier\n",
    "from sklearn.svm import SVC"
   ]
  },
  {
   "cell_type": "markdown",
   "metadata": {},
   "source": [
    "## Exploratory Data Analysis\n",
    "\n",
    "For this part we can see that the set is simple, `ArticleId`, `Text` and `Category`. Since we want our approach to be an unsupervised learning model we will use the `Category` field only as tool to evaluate accuracy of the method.\n",
    "\n",
    "Let's begin!"
   ]
  },
  {
   "cell_type": "code",
   "execution_count": 22,
   "metadata": {},
   "outputs": [
    {
     "data": {
      "text/html": [
       "<div>\n",
       "<style scoped>\n",
       "    .dataframe tbody tr th:only-of-type {\n",
       "        vertical-align: middle;\n",
       "    }\n",
       "\n",
       "    .dataframe tbody tr th {\n",
       "        vertical-align: top;\n",
       "    }\n",
       "\n",
       "    .dataframe thead th {\n",
       "        text-align: right;\n",
       "    }\n",
       "</style>\n",
       "<table border=\"1\" class=\"dataframe\">\n",
       "  <thead>\n",
       "    <tr style=\"text-align: right;\">\n",
       "      <th></th>\n",
       "      <th>ArticleId</th>\n",
       "      <th>Text</th>\n",
       "      <th>Category</th>\n",
       "    </tr>\n",
       "  </thead>\n",
       "  <tbody>\n",
       "    <tr>\n",
       "      <th>0</th>\n",
       "      <td>1833</td>\n",
       "      <td>worldcom ex-boss launches defence lawyers defe...</td>\n",
       "      <td>business</td>\n",
       "    </tr>\n",
       "    <tr>\n",
       "      <th>1</th>\n",
       "      <td>154</td>\n",
       "      <td>german business confidence slides german busin...</td>\n",
       "      <td>business</td>\n",
       "    </tr>\n",
       "    <tr>\n",
       "      <th>2</th>\n",
       "      <td>1101</td>\n",
       "      <td>bbc poll indicates economic gloom citizens in ...</td>\n",
       "      <td>business</td>\n",
       "    </tr>\n",
       "    <tr>\n",
       "      <th>3</th>\n",
       "      <td>1976</td>\n",
       "      <td>lifestyle  governs mobile choice  faster  bett...</td>\n",
       "      <td>tech</td>\n",
       "    </tr>\n",
       "    <tr>\n",
       "      <th>4</th>\n",
       "      <td>917</td>\n",
       "      <td>enron bosses in $168m payout eighteen former e...</td>\n",
       "      <td>business</td>\n",
       "    </tr>\n",
       "  </tbody>\n",
       "</table>\n",
       "</div>"
      ],
      "text/plain": [
       "   ArticleId                                               Text  Category\n",
       "0       1833  worldcom ex-boss launches defence lawyers defe...  business\n",
       "1        154  german business confidence slides german busin...  business\n",
       "2       1101  bbc poll indicates economic gloom citizens in ...  business\n",
       "3       1976  lifestyle  governs mobile choice  faster  bett...      tech\n",
       "4        917  enron bosses in $168m payout eighteen former e...  business"
      ]
     },
     "execution_count": 22,
     "metadata": {},
     "output_type": "execute_result"
    }
   ],
   "source": [
    "df = pd.read_csv('.data/BBC News Train.csv')\n",
    "df.head()"
   ]
  },
  {
   "cell_type": "code",
   "execution_count": 23,
   "metadata": {},
   "outputs": [
    {
     "name": "stdout",
     "output_type": "stream",
     "text": [
      "<class 'pandas.core.frame.DataFrame'>\n",
      "RangeIndex: 1490 entries, 0 to 1489\n",
      "Data columns (total 3 columns):\n",
      " #   Column     Non-Null Count  Dtype \n",
      "---  ------     --------------  ----- \n",
      " 0   ArticleId  1490 non-null   int64 \n",
      " 1   Text       1490 non-null   object\n",
      " 2   Category   1490 non-null   object\n",
      "dtypes: int64(1), object(2)\n",
      "memory usage: 35.0+ KB\n"
     ]
    }
   ],
   "source": [
    "df.info()"
   ]
  },
  {
   "cell_type": "code",
   "execution_count": 24,
   "metadata": {},
   "outputs": [
    {
     "data": {
      "text/plain": [
       "<AxesSubplot:>"
      ]
     },
     "execution_count": 24,
     "metadata": {},
     "output_type": "execute_result"
    },
    {
     "data": {
      "image/png": "[encoded data removed]",
      "text/plain": [
       "<Figure size 432x288 with 1 Axes>"
      ]
     },
     "metadata": {
      "needs_background": "light"
     },
     "output_type": "display_data"
    }
   ],
   "source": [
    "df['Category'].hist()"
   ]
  },
  {
   "cell_type": "code",
   "execution_count": 25,
   "metadata": {},
   "outputs": [
    {
     "data": {
      "text/plain": [
       "<AxesSubplot:>"
      ]
     },
     "execution_count": 25,
     "metadata": {},
     "output_type": "execute_result"
    },
    {
     "data": {
      "image/png": "[encoded data removed]",
      "text/plain": [
       "<Figure size 432x288 with 1 Axes>"
      ]
     },
     "metadata": {
      "needs_background": "light"
     },
     "output_type": "display_data"
    }
   ],
   "source": [
    "df['Text'].str.len().hist(bins=50)"
   ]
  },
  {
   "cell_type": "code",
   "execution_count": 26,
   "metadata": {},
   "outputs": [
    {
     "name": "stdout",
     "output_type": "stream",
     "text": [
      "business\n",
      "['from' 'be' 'have' 'are' '-' 'will' 'us' 'which' 'mr' 'but' 'an' 'had'\n",
      " 'this' 'would' 'been' 'year' 'not' 'more' 'he' 'up' 'were' 'also' 'new'\n",
      " 'than' 'their' 'firm' 'company' 'last' 'market' 'growth']\n",
      "entertainment\n",
      "['-' 'his' 'by' 'will' 'i' 'best' 'have' 'said' 'who' 'from' 'are' 'but'\n",
      " 'which' 'an' 'also' 'been' 'this' 'had' 'were' 'one' 'not' 'they' 'she'\n",
      " 'their' 'we' 'us' 'music' 'new' 'year' 'her']\n",
      "politics\n",
      "['have' 'not' 'by' 'will' 'with' 'are' 'has' 'they' 'at' 'his' '-' 'from'\n",
      " 'had' 'labour' 'government' 'an' 'we' 'this' 'i' 'been' 'were' 'people'\n",
      " 'there' 'their' '.' 'blair' 'which' 'party' 'who' 'election']\n",
      "sport\n",
      "['we' 'has' 'be' 'will' 'as' 'not' 'from' 'after' 'by' 'they' 'had'\n",
      " 'their' 'been' 'said' 'are' 'an' 'this' 'who' 'first' 't' 'against'\n",
      " 'england' '-' 'out' 'when' 'game' 'win' 'last' 'if' 'over']\n",
      "tech\n",
      "['has' 'was' 'they' 'people' 'more' 'not' 'at' 'but' 'which' 'from' 'he'\n",
      " 'can' 'this' 'or' 'their' 'an' 'its' 'about' 'mr' 'up' 'new' 'also' 'you'\n",
      " 'were' 'than' '-' 'we' 'would' 'one' 'been']\n"
     ]
    }
   ],
   "source": [
    "text_df = df.groupby('Category')['Text'].apply(','.join).reset_index()\n",
    "text_split = text_df['Text'].str.split()\n",
    "\n",
    "for i in range(len(text_split)):\n",
    "    label, counts = np.unique(text_split[i], return_counts=True)\n",
    "    idx = np.flip(counts.argsort())\n",
    "    print(text_df['Category'][i])\n",
    "    print(label[idx][20:50])"
   ]
  },
  {
   "cell_type": "markdown",
   "metadata": {},
   "source": [
    "## EDA Insights and Preprocessing\n",
    "From the the exploratory analysis we can see how there are 5 main categories for this data set: business, entertainment, politics, sport and tech. We have a good spread of articles each having at least more than 250 entries within their categories which helps by having a less biased data set.\n",
    "\n",
    "In terms of words er article we can see how we have a lot of articles with around 1500~ words approximately on our raw text files. Here we can see some additional outliers on articles which have more than 5000 words but I have decided not to remove them to see how my models work with the provided sets, maybe these outliers were expected and we're not meant to remove them.\n",
    "\n",
    "The last part is a small list of most frequent words and I have to say this which you might expect but we have to take into account. The most frequent words in all of the categories were the ones which are commonly used in the language such as prepositions, objects, subjects, etc. hence why I decided to print like from the top 20 to 50 to see some differenciation. Here I see how for business we begin to see words such as *market* or *company* on the top, other examples would be *game* for sport, *election* for politics and *music* for entertainment.\n",
    "\n",
    "### What about Preprocessing?\n",
    "For the project I have decided to avoid as much preprocessing as possible to see how the models could be tunned. Text preprocessing can be helpful but they add some kind of bias which I might not expect being a non-native speaker. I might remove some punctuation, accents, tildes and many more features which add context to the language.\n",
    "\n",
    "With all of this in mind, lets see how the model performs.\n",
    "\n",
    "## Text Processing Method\n",
    "The method I chose to process the text is the **TF-IDF** short for **Term Frequency-Inverse Document Frequency** I'll try to summarize the method and how it works to process the text. The first part is the term frequency which measures the amount of times a word/term appears in a document and sets a weight to that term depending on the count. On the other hand the inverse document frequency helps to reduce the weight of very common words which appear in the document, this part sets the weights of terms that appear very frequenly in many documents and the ones that occur rarely. All of this makes this method evaluate which words are specifically mentioned within documents considering that within the language there are a lot of others that support ideas but are not key to vectorize a document.\n",
    "\n",
    "This process helps to assign the text some weights which we can consider as features for our model. In this case the Non-Negative Matrix Factorization we can input this matrix.\n",
    "\n",
    "## Support Functions"
   ]
  },
  {
   "cell_type": "code",
   "execution_count": 27,
   "metadata": {},
   "outputs": [],
   "source": [
    "def predict(W):\n",
    "    sortedW = np.argsort(W)\n",
    "    n_predictions, maxValue = sortedW.shape\n",
    "    predictions = [[sortedW[i][maxValue - 1]] for i in range(n_predictions)]\n",
    "    topics = np.empty(n_predictions, dtype = np.int64)\n",
    "    for i in range(n_predictions):\n",
    "        topics[i] = predictions[i][0]\n",
    "    return topics\n",
    "\n",
    "def labels_accuracy(ytdf,yp,n=5):\n",
    "    perms = list(itertools.permutations([0, 1, 2, 3, 4]))    #create permutation list\n",
    "    best_labels = []\n",
    "    best_acc = 0 \n",
    "    current = {}\n",
    "    labels = ['business', 'tech', 'politics', 'sport', 'entertainment']\n",
    "    for perm in perms:\n",
    "        for i in range(n):\n",
    "            current[labels[i]] = perm[i]\n",
    "            if len(current) == 5:\n",
    "                conditions = [\n",
    "                    (ytdf['Category'] == current['business']),\n",
    "                    (ytdf['Category'] == current['tech']),\n",
    "                    (ytdf['Category'] == current['politics']),\n",
    "                    (ytdf['Category'] == current['sport']),\n",
    "                    (ytdf['Category'] == current['entertainment'])]\n",
    "                ytdf['test'] = ytdf['Category'].map(current)\n",
    "                current_accuracy = accuracy_score(ytdf['test'], yp)\n",
    "                if current_accuracy > best_acc: \n",
    "                    best_acc = current_accuracy\n",
    "                    best_labels = perm\n",
    "                    ytdf['best'] = ytdf['test']\n",
    "    return best_labels, best_acc"
   ]
  },
  {
   "cell_type": "markdown",
   "metadata": {},
   "source": [
    "## Text Preprocessing and Model Training\n",
    "Here I tested multiple parameters, here in the TF-IDF from Sklearn we can inout various ways to extract the text, whether its without any kind of puntuaction, max number of features or ngram_range which consider word combinations as features since some phrases might be unique to the category of article we're trying to extract the features from.\n",
    "\n",
    "For this scenario after using the word verctorizer method we can now input the data into the model and look for the best parameters to obtain a good training score. The key parameters I'm playing with are the beta loss and the solver hyperparameters which slightly impact the final results. "
   ]
  },
  {
   "cell_type": "code",
   "execution_count": 37,
   "metadata": {},
   "outputs": [],
   "source": [
    "tfidf = TfidfVectorizer(min_df=3, ngram_range=(1,2), binary=True)\n",
    "features = tfidf.fit_transform(df.Text)\n",
    "mod = NMF(n_components=5, solver='mu', beta_loss='kullback-leibler').fit(features)"
   ]
  },
  {
   "cell_type": "code",
   "execution_count": 38,
   "metadata": {},
   "outputs": [
    {
     "name": "stdout",
     "output_type": "stream",
     "text": [
      "(0, 4, 2, 1, 3) 0.9577181208053691\n"
     ]
    },
    {
     "data": {
      "text/html": [
       "<div>\n",
       "<style scoped>\n",
       "    .dataframe tbody tr th:only-of-type {\n",
       "        vertical-align: middle;\n",
       "    }\n",
       "\n",
       "    .dataframe tbody tr th {\n",
       "        vertical-align: top;\n",
       "    }\n",
       "\n",
       "    .dataframe thead th {\n",
       "        text-align: right;\n",
       "    }\n",
       "</style>\n",
       "<table border=\"1\" class=\"dataframe\">\n",
       "  <thead>\n",
       "    <tr style=\"text-align: right;\">\n",
       "      <th></th>\n",
       "      <th>ArticleId</th>\n",
       "      <th>Text</th>\n",
       "      <th>Category</th>\n",
       "      <th>test</th>\n",
       "      <th>best</th>\n",
       "    </tr>\n",
       "  </thead>\n",
       "  <tbody>\n",
       "    <tr>\n",
       "      <th>0</th>\n",
       "      <td>1833</td>\n",
       "      <td>worldcom ex-boss launches defence lawyers defe...</td>\n",
       "      <td>business</td>\n",
       "      <td>4</td>\n",
       "      <td>0</td>\n",
       "    </tr>\n",
       "    <tr>\n",
       "      <th>1</th>\n",
       "      <td>154</td>\n",
       "      <td>german business confidence slides german busin...</td>\n",
       "      <td>business</td>\n",
       "      <td>4</td>\n",
       "      <td>0</td>\n",
       "    </tr>\n",
       "    <tr>\n",
       "      <th>2</th>\n",
       "      <td>1101</td>\n",
       "      <td>bbc poll indicates economic gloom citizens in ...</td>\n",
       "      <td>business</td>\n",
       "      <td>4</td>\n",
       "      <td>0</td>\n",
       "    </tr>\n",
       "    <tr>\n",
       "      <th>3</th>\n",
       "      <td>1976</td>\n",
       "      <td>lifestyle  governs mobile choice  faster  bett...</td>\n",
       "      <td>tech</td>\n",
       "      <td>3</td>\n",
       "      <td>4</td>\n",
       "    </tr>\n",
       "    <tr>\n",
       "      <th>4</th>\n",
       "      <td>917</td>\n",
       "      <td>enron bosses in $168m payout eighteen former e...</td>\n",
       "      <td>business</td>\n",
       "      <td>4</td>\n",
       "      <td>0</td>\n",
       "    </tr>\n",
       "  </tbody>\n",
       "</table>\n",
       "</div>"
      ],
      "text/plain": [
       "   ArticleId                                               Text  Category  \\\n",
       "0       1833  worldcom ex-boss launches defence lawyers defe...  business   \n",
       "1        154  german business confidence slides german busin...  business   \n",
       "2       1101  bbc poll indicates economic gloom citizens in ...  business   \n",
       "3       1976  lifestyle  governs mobile choice  faster  bett...      tech   \n",
       "4        917  enron bosses in $168m payout eighteen former e...  business   \n",
       "\n",
       "   test  best  \n",
       "0     4     0  \n",
       "1     4     0  \n",
       "2     4     0  \n",
       "3     3     4  \n",
       "4     4     0  "
      ]
     },
     "execution_count": 38,
     "metadata": {},
     "output_type": "execute_result"
    }
   ],
   "source": [
    "y = predict(mod.transform(features))\n",
    "label_order, accuracy = labels_accuracy(df, y )\n",
    "print(label_order, accuracy)\n",
    "df.head()"
   ]
  },
  {
   "cell_type": "markdown",
   "metadata": {},
   "source": [
    "## Model Testing\n",
    "Ater achieving a good model fit we then need to see how the model performs on the provided test data. First we need to set up the test data the same way the train was in order for the model to be interpreted, in our case since the competition provides separate solution and tests we merge them for the function we had previously to work on the data and check the accuracy correcly."
   ]
  },
  {
   "cell_type": "code",
   "execution_count": 30,
   "metadata": {},
   "outputs": [],
   "source": [
    "test_data = pd.read_csv('.data/BBC News Test.csv')\n",
    "sol = pd.read_csv('.data/BBC News Sample Solution.csv')\n",
    "df_test = test_data.merge(sol, on='ArticleId')"
   ]
  },
  {
   "cell_type": "code",
   "execution_count": 40,
   "metadata": {},
   "outputs": [
    {
     "name": "stdout",
     "output_type": "stream",
     "text": [
      "(1, 2, 4, 0, 3) 0.24489795918367346\n"
     ]
    },
    {
     "data": {
      "text/html": [
       "<div>\n",
       "<style scoped>\n",
       "    .dataframe tbody tr th:only-of-type {\n",
       "        vertical-align: middle;\n",
       "    }\n",
       "\n",
       "    .dataframe tbody tr th {\n",
       "        vertical-align: top;\n",
       "    }\n",
       "\n",
       "    .dataframe thead th {\n",
       "        text-align: right;\n",
       "    }\n",
       "</style>\n",
       "<table border=\"1\" class=\"dataframe\">\n",
       "  <thead>\n",
       "    <tr style=\"text-align: right;\">\n",
       "      <th></th>\n",
       "      <th>ArticleId</th>\n",
       "      <th>Text</th>\n",
       "      <th>Category</th>\n",
       "      <th>test</th>\n",
       "      <th>best</th>\n",
       "    </tr>\n",
       "  </thead>\n",
       "  <tbody>\n",
       "    <tr>\n",
       "      <th>0</th>\n",
       "      <td>1018</td>\n",
       "      <td>qpr keeper day heads for preston queens park r...</td>\n",
       "      <td>sport</td>\n",
       "      <td>1</td>\n",
       "      <td>0</td>\n",
       "    </tr>\n",
       "    <tr>\n",
       "      <th>1</th>\n",
       "      <td>1319</td>\n",
       "      <td>software watching while you work software that...</td>\n",
       "      <td>tech</td>\n",
       "      <td>3</td>\n",
       "      <td>2</td>\n",
       "    </tr>\n",
       "    <tr>\n",
       "      <th>2</th>\n",
       "      <td>1138</td>\n",
       "      <td>d arcy injury adds to ireland woe gordon d arc...</td>\n",
       "      <td>business</td>\n",
       "      <td>4</td>\n",
       "      <td>1</td>\n",
       "    </tr>\n",
       "    <tr>\n",
       "      <th>3</th>\n",
       "      <td>459</td>\n",
       "      <td>india s reliance family feud heats up the ongo...</td>\n",
       "      <td>entertainment</td>\n",
       "      <td>0</td>\n",
       "      <td>0</td>\n",
       "    </tr>\n",
       "    <tr>\n",
       "      <th>4</th>\n",
       "      <td>1020</td>\n",
       "      <td>boro suffer morrison injury blow middlesbrough...</td>\n",
       "      <td>politics</td>\n",
       "      <td>2</td>\n",
       "      <td>4</td>\n",
       "    </tr>\n",
       "  </tbody>\n",
       "</table>\n",
       "</div>"
      ],
      "text/plain": [
       "   ArticleId                                               Text  \\\n",
       "0       1018  qpr keeper day heads for preston queens park r...   \n",
       "1       1319  software watching while you work software that...   \n",
       "2       1138  d arcy injury adds to ireland woe gordon d arc...   \n",
       "3        459  india s reliance family feud heats up the ongo...   \n",
       "4       1020  boro suffer morrison injury blow middlesbrough...   \n",
       "\n",
       "        Category  test  best  \n",
       "0          sport     1     0  \n",
       "1           tech     3     2  \n",
       "2       business     4     1  \n",
       "3  entertainment     0     0  \n",
       "4       politics     2     4  "
      ]
     },
     "execution_count": 40,
     "metadata": {},
     "output_type": "execute_result"
    }
   ],
   "source": [
    "features_test = tfidf.transform(test_data.Text)\n",
    "y_test = predict(mod.transform(features_test))\n",
    "label_order_test, accuracy_test = labels_accuracy(df_test, y_test )\n",
    "print(label_order_test, accuracy_test)\n",
    "df_test.head()"
   ]
  },
  {
   "cell_type": "markdown",
   "metadata": {},
   "source": [
    "## NMF Results\n",
    "Looking into our results we can see how despite us achieving a 0.95 accuracy on the training data we only have a 0.24 accuracy on our test data which we could say the model does not perform that well. This might be involved with how we're vectorizing the text features or tunning the model to the point where it overfits on the training sets and does not perform as well on the test set.\n",
    "\n",
    "In the future I might need to use other methods of text vectorizing and see how it performs on this exact NMF model, to discard any issues with how the vectorizing is being done.\n",
    "\n",
    "# Supervised Model Comparison\n",
    "For this project I'm going to see how our NMF model fares against a supervised model since we're provided the labels in the competition.\n",
    "\n",
    "For this part I have selected an ensemble method (Random Forest) and a support vector machine (SVC) to see their performance and compare them in a final analysis to define which method was the most adequate one. I'll be using the same feature matrix we obtained with the TF-IDF method just to be fair to these methods and have a better comparison on the performance of both."
   ]
  },
  {
   "cell_type": "code",
   "execution_count": 32,
   "metadata": {},
   "outputs": [],
   "source": [
    "features = tfidf.fit_transform(df.Text).toarray()\n",
    "labels = df.Category\n",
    "test_features = tfidf.transform(df_test.Text).toarray()\n",
    "test_labels = df_test.Category\n",
    "\n",
    "RF_mod = RandomForestClassifier(n_estimators=150, max_depth=4).fit(features, labels)\n",
    "SVC_mod = SVC().fit(features, labels)"
   ]
  },
  {
   "cell_type": "code",
   "execution_count": 33,
   "metadata": {},
   "outputs": [
    {
     "name": "stdout",
     "output_type": "stream",
     "text": [
      "Random Forest Classifier: 0.8711409395973154\n",
      "Support Vector Machine (Classifier): 1.0\n"
     ]
    }
   ],
   "source": [
    "RF_pred_labels = RF_mod.predict(features)\n",
    "SV_pred_labels = SVC_mod.predict(features)\n",
    "\n",
    "ac_RF = accuracy_score(labels, RF_pred_labels)\n",
    "ac_SV = accuracy_score(labels, SV_pred_labels)\n",
    "\n",
    "print('Random Forest Classifier:', ac_RF)\n",
    "print('Support Vector Machine (Classifier):', ac_SV)"
   ]
  },
  {
   "cell_type": "code",
   "execution_count": 34,
   "metadata": {},
   "outputs": [
    {
     "name": "stdout",
     "output_type": "stream",
     "text": [
      "Random Forest Classifier: 0.19591836734693877\n",
      "Support Vector Machine (Classifier): 0.18639455782312925\n"
     ]
    }
   ],
   "source": [
    "RFtest_pred_labels = RF_mod.predict(test_features)\n",
    "SVtest_pred_labels = SVC_mod.predict(test_features)\n",
    "\n",
    "ac_RF = accuracy_score(test_labels, RFtest_pred_labels)\n",
    "ac_SV = accuracy_score(test_labels, SVtest_pred_labels)\n",
    "\n",
    "print('Random Forest Classifier:', ac_RF)\n",
    "print('Support Vector Machine (Classifier):', ac_SV)"
   ]
  },
  {
   "cell_type": "markdown",
   "metadata": {},
   "source": [
    "## Analysis\n",
    "When comparing the supervised models agasint the unsupervised ones we see two key insights:\n",
    "* Some supervised models can overfit much more easily\n",
    "* Unsupervised models seem more flexible when test data is added\n",
    "\n",
    "With those two core ideas we can see how an SVC model overfits on the train data having a accuracy of 1 but when test data is added to the equation we obtain the lowest accuracy of all of the models analyzed. Either way the supervised methods did not return better results compared to the unsupervised which leads us to say that with the available information for this text classification problem a unsupervised model works better than the supervised ones.\n",
    "\n",
    "## Conclusion\n",
    "To conclude this project I'll sumarrize into the following bullet points:\n",
    "* Text vectorization matters\n",
    "\n",
    "How we decide to translate text features to vectors/matrices is key since these are the inputs to our models, changing the vectorizing method might drastically impact the final result of the model.\n",
    "\n",
    "* Problem Context Matters\n",
    "\n",
    "Knowing the type the problem is key to define if we can do suprvised or unsupervised learning. In our case unsupervised showed better performance but this could change if the nature of the problem is different, text analysis and classification might be a good case where it might be better to not know the outcome whereas a problem where we have quantitative attributes a supervised model might return better results, we need to test all the tools available to see which one is the best for out case since there is not a one size fits all solution.\n",
    "\n",
    "This would be the key points I'd like to share with you, if you have any feedback or comments feel free to reach out on GitHub or other platforms to see how this work can be improved."
   ]
  }
 ],
 "metadata": {
  "kernelspec": {
   "display_name": "Python 3.10.6 64-bit",
   "language": "python",
   "name": "python3"
  },
  "language_info": {
   "codemirror_mode": {
    "name": "ipython",
    "version": 3
   },
   "file_extension": ".py",
   "mimetype": "text/x-python",
   "name": "python",
   "nbconvert_exporter": "python",
   "pygments_lexer": "ipython3",
   "version": "3.10.6"
  },
  "orig_nbformat": 4,
  "vscode": {
   "interpreter": {
    "hash": "fa5e5e9a487e2dd76c7ea7823608b3e5576beb764152fabbf69ac7563ac3923b"
   }
  }
 },
 "nbformat": 4,
 "nbformat_minor": 2
}
